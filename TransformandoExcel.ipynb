{
  "nbformat": 4,
  "nbformat_minor": 0,
  "metadata": {
    "colab": {
      "provenance": []
    },
    "kernelspec": {
      "name": "python3",
      "display_name": "Python 3"
    },
    "language_info": {
      "name": "python"
    }
  },
  "cells": [
    {
      "cell_type": "code",
      "execution_count": null,
      "metadata": {
        "colab": {
          "base_uri": "https://localhost:8080/"
        },
        "id": "MwPPDnOyn-tr",
        "outputId": "0b70c5ab-9b14-470d-d1e1-2e172108ebd6"
      },
      "outputs": [
        {
          "output_type": "stream",
          "name": "stdout",
          "text": [
            "Arquivo unificado salvo como 'StealTheLook_Unificado.xlsx'\n"
          ]
        }
      ],
      "source": [
        "import pandas as pd\n",
        "\n",
        "# Caminho do seu arquivo\n",
        "arquivo = \"StealTheLookAnalise.xlsx\"\n",
        "\n",
        "# Carrega a planilha\n",
        "df = pd.read_excel(arquivo)\n",
        "\n",
        "# --- 1. Bigrama ---\n",
        "bigrama_df = df[['Bigrama', 'Contagem']].dropna()\n",
        "bigrama_df.columns = ['termo/frase', 'contagem']\n",
        "bigrama_df['blog'] = 'steal the look'\n",
        "bigrama_df['tipo'] = 'ngram'\n",
        "bigrama_df['ngram'] = 'bigrama'\n",
        "\n",
        "# --- 2. Trigrama ---\n",
        "trigrama_df = df[['Trigrama', 'Contagem.1']].dropna()\n",
        "trigrama_df.columns = ['termo/frase', 'contagem']\n",
        "trigrama_df['blog'] = 'steal the look'\n",
        "trigrama_df['tipo'] = 'ngram'\n",
        "trigrama_df['ngram'] = 'trigrama'\n",
        "\n",
        "# --- 3. Unigrama (termos simples) ---\n",
        "unigrama_df = df[['Termo', 'Contagem.2']].dropna()\n",
        "unigrama_df.columns = ['termo/frase', 'contagem']\n",
        "unigrama_df['blog'] = 'steal the look'\n",
        "unigrama_df['tipo'] = 'termo'\n",
        "unigrama_df['ngram'] = 'unigrama'\n",
        "\n",
        "# --- Junta tudo ---\n",
        "df_unificado = pd.concat([bigrama_df, trigrama_df, unigrama_df], ignore_index=True)\n",
        "\n",
        "# --- Exporta para Excel ---\n",
        "df_unificado.to_excel(\"StealTheLook_Unificado.xlsx\", index=False)\n",
        "\n",
        "print(\"Arquivo unificado salvo como 'StealTheLook_Unificado.xlsx'\")\n"
      ]
    },
    {
      "cell_type": "code",
      "source": [
        "import pandas as pd\n",
        "\n",
        "# Caminho do arquivo\n",
        "arquivo = \"analisetexto_garotasestupidas.xlsx\"\n",
        "\n",
        "# Carregar o Excel (supondo que esteja na aba padrão \"Sheet1\")\n",
        "df = pd.read_excel(arquivo)\n",
        "\n",
        "# --- 1. Palavras mais comuns (unigramas) ---\n",
        "comuns_df = df[['Palavra', 'Contagem']].dropna()\n",
        "comuns_df.columns = ['termo/frase', 'contagem']\n",
        "comuns_df['blog'] = 'garotas estupidas'\n",
        "comuns_df['tipo'] = 'palavras_comuns'\n",
        "comuns_df['ngram'] = 'unigrama'\n",
        "\n",
        "# --- 2. Palavras-chave ---\n",
        "chaves_df = df[['Palavra-chave', 'Contagem.1']].dropna()\n",
        "chaves_df.columns = ['termo/frase', 'contagem']\n",
        "chaves_df['blog'] = 'garotas estupidas'\n",
        "chaves_df['tipo'] = 'palavras-chave'\n",
        "chaves_df['ngram'] = 'frase'\n",
        "\n",
        "# --- 3. Frases específicas ---\n",
        "frases_df = df[['Palavra/Termo Específico', 'Contagem.2']].dropna()\n",
        "frases_df.columns = ['termo/frase', 'contagem']\n",
        "frases_df['blog'] = 'garotas estupidas'\n",
        "frases_df['tipo'] = 'frases_especificas'\n",
        "frases_df['ngram'] = 'frase'\n",
        "\n",
        "# --- Unir tudo ---\n",
        "df_unificado = pd.concat([comuns_df, chaves_df, frases_df], ignore_index=True)\n",
        "\n",
        "# --- Exportar para Excel ---\n",
        "df_unificado.to_excel(\"GarotasEstupidas_Unificado.xlsx\", index=False)\n",
        "\n",
        "print(\"Arquivo salvo como 'GarotasEstupidas_Unificado.xlsx'\")\n"
      ],
      "metadata": {
        "colab": {
          "base_uri": "https://localhost:8080/"
        },
        "id": "VZE0muHhox6l",
        "outputId": "efb0e092-9f8c-4467-fd83-388d0ae81f4a"
      },
      "execution_count": null,
      "outputs": [
        {
          "output_type": "stream",
          "name": "stdout",
          "text": [
            "Arquivo salvo como 'GarotasEstupidas_Unificado.xlsx'\n"
          ]
        }
      ]
    },
    {
      "cell_type": "code",
      "source": [
        "import pandas as pd\n",
        "\n",
        "# Carregar os dois arquivos unificados\n",
        "steal_df = pd.read_excel(\"StealTheLook_Unificado.xlsx\")\n",
        "garotas_df = pd.read_excel(\"GarotasEstupidas_Unificado.xlsx\")\n",
        "\n",
        "# Unir as tabelas\n",
        "df_final = pd.concat([steal_df, garotas_df], ignore_index=True)\n",
        "\n",
        "# Exportar para um único Excel\n",
        "df_final.to_excel(\"Analise_Texto_Unificada.xlsx\", index=False)\n",
        "\n",
        "print(\"Arquivo final salvo como 'Analise_Texto_Unificada.xlsx'\")\n"
      ],
      "metadata": {
        "colab": {
          "base_uri": "https://localhost:8080/"
        },
        "id": "2YpyVHbXqMLe",
        "outputId": "db8a9a66-5e9e-4a13-921d-beebddcfca53"
      },
      "execution_count": null,
      "outputs": [
        {
          "output_type": "stream",
          "name": "stdout",
          "text": [
            "Arquivo final salvo como 'Analise_Texto_Unificada.xlsx'\n"
          ]
        }
      ]
    }
  ]
}